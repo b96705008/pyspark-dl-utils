{
 "cells": [
  {
   "cell_type": "code",
   "execution_count": 2,
   "metadata": {
    "collapsed": true
   },
   "outputs": [],
   "source": [
    "from __future__ import division, print_function, unicode_literals\n",
    "import numpy as np\n",
    "import math"
   ]
  },
  {
   "cell_type": "code",
   "execution_count": 3,
   "metadata": {
    "collapsed": true
   },
   "outputs": [],
   "source": [
    "def make_data():\n",
    "    x = np.random.random(10).reshape(1, -1)\n",
    "    y = np.zeros((1, 2))\n",
    "    y[0, np.random.randint(2)] = 1\n",
    "    return {'features': x, 'label': y}"
   ]
  },
  {
   "cell_type": "code",
   "execution_count": 4,
   "metadata": {
    "collapsed": false
   },
   "outputs": [],
   "source": [
    "data = sc.parallelize(range(10000)).map(lambda i: make_data())"
   ]
  },
  {
   "cell_type": "code",
   "execution_count": 5,
   "metadata": {
    "collapsed": false
   },
   "outputs": [
    {
     "data": {
      "text/plain": [
       "PythonRDD[1] at RDD at PythonRDD.scala:48"
      ]
     },
     "execution_count": 5,
     "metadata": {},
     "output_type": "execute_result"
    }
   ],
   "source": [
    "data.persist()"
   ]
  },
  {
   "cell_type": "code",
   "execution_count": 6,
   "metadata": {
    "collapsed": false
   },
   "outputs": [
    {
     "data": {
      "text/plain": [
       "(10000, 128, 78)"
      ]
     },
     "execution_count": 6,
     "metadata": {},
     "output_type": "execute_result"
    }
   ],
   "source": [
    "batch_size = 128\n",
    "data_cnt = data.count()\n",
    "n_batch = data_cnt // batch_size\n",
    "\n",
    "data_cnt, batch_size, n_batch"
   ]
  },
  {
   "cell_type": "markdown",
   "metadata": {},
   "source": [
    "# Random Split"
   ]
  },
  {
   "cell_type": "code",
   "execution_count": 7,
   "metadata": {
    "collapsed": true
   },
   "outputs": [],
   "source": [
    "batch_ratios = [batch_size / data_cnt] * int(math.ceil(data_cnt / batch_size))"
   ]
  },
  {
   "cell_type": "code",
   "execution_count": 8,
   "metadata": {
    "collapsed": false
   },
   "outputs": [],
   "source": [
    "def concate_data(x, y):\n",
    "    dataset = {}\n",
    "    for f in ['features', 'label']:\n",
    "        dataset[f] = np.concatenate((x[f], y[f]), axis=0)\n",
    "    return dataset\n",
    "\n",
    "\n",
    "def next_batch_rdd_maker(data_rdd, batch_size, epoch_limit=None):\n",
    "    data_cnt = data_rdd.count()\n",
    "    per_batch_ratios = [batch_size / data_cnt] * int(math.ceil(data_cnt / batch_size))\n",
    "    def next_batch():\n",
    "        current_epoch = 0\n",
    "        while True:\n",
    "            current_epoch += 1\n",
    "            print('{} epoch starts!'.format(current_epoch))\n",
    "            if epoch_limit is not None and current_epoch > epoch_limit: \n",
    "                break \n",
    "            batches = data_rdd.randomSplit(per_batch_ratios)\n",
    "            for batch in batches:\n",
    "                dataset = batch.reduce(concate_data)\n",
    "                yield dataset['features'], dataset['label']\n",
    "    return next_batch"
   ]
  },
  {
   "cell_type": "code",
   "execution_count": 16,
   "metadata": {
    "collapsed": false
   },
   "outputs": [
    {
     "name": "stdout",
     "output_type": "stream",
     "text": [
      "1 epoch starts!\n",
      "(122, 10) (122, 2)\n",
      "[[ 0.43046535  0.99487139  0.25418304  0.54413216  0.87114291  0.57977683\n",
      "   0.68006257  0.38922832  0.17447601  0.35889889]\n",
      " [ 0.10120172  0.71357518  0.42522073  0.57954529  0.56651004  0.89643308\n",
      "   0.78255156  0.74294374  0.40264734  0.28018941]\n",
      " [ 0.9990186   0.21404378  0.23978797  0.55670715  0.41915767  0.86740202\n",
      "   0.13936329  0.79298216  0.14045334  0.57676947]\n",
      " [ 0.20625397  0.0958593   0.93350915  0.69372181  0.4208059   0.9217431\n",
      "   0.16450364  0.46395371  0.63320958  0.46280943]\n",
      " [ 0.79866558  0.09432513  0.01022666  0.71969341  0.08851809  0.42621472\n",
      "   0.66410322  0.33755107  0.29852467  0.7638972 ]]\n",
      "run n_batch 1\n",
      "(132, 10) (132, 2)\n",
      "[[ 0.34428665  0.1014612   0.16825857  0.88735713  0.04422784  0.09846397\n",
      "   0.41227217  0.67991749  0.65634828  0.11652937]\n",
      " [ 0.83660833  0.62204563  0.82858429  0.3523604   0.99881155  0.26858747\n",
      "   0.77184224  0.84774388  0.82233347  0.16062356]\n",
      " [ 0.18852273  0.7652111   0.3679878   0.46833854  0.05241216  0.20894072\n",
      "   0.28634546  0.31198913  0.99023727  0.16313686]\n",
      " [ 0.9747618   0.59749927  0.50766114  0.06620545  0.45492937  0.99042517\n",
      "   0.77858325  0.56144956  0.63297563  0.11459351]\n",
      " [ 0.50399383  0.61479989  0.12777823  0.52200687  0.00165779  0.9971768\n",
      "   0.1924465   0.1710584   0.92718169  0.88038502]]\n",
      "run n_batch 2\n",
      "(113, 10) (113, 2)\n",
      "[[ 0.60776538  0.10693708  0.27222373  0.53310434  0.53198568  0.73622495\n",
      "   0.2692968   0.7630157   0.57845845  0.91462781]\n",
      " [ 0.94558056  0.43605963  0.06678604  0.19427748  0.58802216  0.26680244\n",
      "   0.317181    0.13625144  0.61264973  0.75468046]\n",
      " [ 0.28952357  0.5754543   0.18515137  0.63729397  0.49586551  0.2892936\n",
      "   0.98869676  0.69110323  0.39090337  0.88547273]\n",
      " [ 0.52877534  0.77056709  0.70606197  0.43479146  0.1115685   0.17638078\n",
      "   0.89748421  0.04544821  0.4578247   0.79161793]\n",
      " [ 0.05962138  0.5557846   0.78599575  0.96526268  0.9545015   0.61161719\n",
      "   0.3071684   0.40546122  0.40460638  0.7888026 ]]\n",
      "run n_batch 3\n"
     ]
    }
   ],
   "source": [
    "next_batch = next_batch_rdd_maker(data, batch_size, epoch_limit=2)\n",
    "\n",
    "i = 0\n",
    "for X_batch, Y_batch in next_batch():\n",
    "    print(X_batch.shape, Y_batch.shape)\n",
    "    print(X_batch[0:5])\n",
    "    #print(Y_batch[0:5])\n",
    "    i += 1\n",
    "    print(\"run n_batch {}\".format(i))\n",
    "    if i > 2:\n",
    "        break"
   ]
  },
  {
   "cell_type": "markdown",
   "metadata": {},
   "source": [
    "# Group"
   ]
  },
  {
   "cell_type": "code",
   "execution_count": 18,
   "metadata": {
    "collapsed": false
   },
   "outputs": [
    {
     "name": "stdout",
     "output_type": "stream",
     "text": [
      "k: 0\n",
      "(129, 10)\n",
      "[[ 0.40449649  0.64712576  0.95220635  0.26743756  0.4897337   0.65779447\n",
      "   0.13467376  0.26498336  0.25519918  0.60751199]\n",
      " [ 0.85376512  0.36794005  0.60129744  0.67956998  0.36438509  0.32216485\n",
      "   0.72992167  0.4002749   0.69590466  0.15238375]\n",
      " [ 0.90109728  0.02802473  0.83910834  0.44807331  0.48835972  0.39959256\n",
      "   0.23281237  0.91168778  0.97544587  0.37338592]\n",
      " [ 0.34907741  0.70095545  0.00257921  0.9355607   0.28127654  0.06429361\n",
      "   0.29068068  0.81295699  0.21773784  0.95107649]\n",
      " [ 0.04054203  0.51538163  0.34785669  0.85792816  0.80504133  0.96387436\n",
      "   0.91655568  0.56169304  0.01087596  0.14014302]]\n",
      "k: 32\n",
      "(128, 10)\n",
      "[[ 0.58077789  0.13659288  0.76546657  0.50202154  0.32030147  0.09888194\n",
      "   0.26569836  0.1522073   0.75436084  0.25273888]\n",
      " [ 0.34200587  0.8968246   0.30968019  0.83710076  0.28225554  0.07718871\n",
      "   0.61926568  0.22449407  0.29440704  0.71991896]\n",
      " [ 0.73213367  0.70505257  0.24336376  0.03463896  0.04672491  0.62215894\n",
      "   0.19099494  0.41753696  0.15727117  0.70874378]\n",
      " [ 0.99308182  0.3757322   0.89215667  0.85447602  0.38663715  0.16132991\n",
      "   0.01299629  0.81908071  0.68843088  0.5297797 ]\n",
      " [ 0.93035525  0.77177759  0.49552496  0.71672325  0.45447953  0.60987791\n",
      "   0.88464349  0.86022634  0.6237055   0.86227298]]\n",
      "k: 48\n",
      "(128, 10)\n",
      "[[ 0.16159663  0.80809769  0.89129264  0.65635468  0.61584863  0.87598408\n",
      "   0.57513779  0.78972003  0.24199268  0.65501241]\n",
      " [ 0.71069654  0.72259854  0.39349649  0.87766569  0.0138108   0.00573189\n",
      "   0.101029    0.25921357  0.30010989  0.22262175]\n",
      " [ 0.88367951  0.15580981  0.05953784  0.33953425  0.02617817  0.07903603\n",
      "   0.9484612   0.02393137  0.13767248  0.13546893]\n",
      " [ 0.09881205  0.65074872  0.73154652  0.41704246  0.24884099  0.70086256\n",
      "   0.26110151  0.31650965  0.05172615  0.62749188]\n",
      " [ 0.71176628  0.43330942  0.82876397  0.02506704  0.01804854  0.07374606\n",
      "   0.6050398   0.052975    0.90804465  0.98603288]]\n",
      "k: 8\n",
      "(129, 10)\n",
      "[[  1.45177316e-01   9.91542618e-01   5.69849327e-01   9.29140083e-01\n",
      "    3.25488885e-01   2.36617537e-01   1.08893482e-01   3.98709965e-01\n",
      "    5.38880735e-01   7.09045739e-01]\n",
      " [  6.37028033e-01   7.50198966e-04   8.05902595e-01   8.98015652e-01\n",
      "    1.17073221e-02   5.02209490e-01   6.81400409e-01   7.89845838e-01\n",
      "    2.15587398e-01   5.61346902e-01]\n",
      " [  9.19997325e-01   7.24057599e-01   4.07118408e-02   6.36464568e-01\n",
      "    2.64045417e-01   8.95388435e-01   8.01634708e-01   7.52922361e-01\n",
      "    9.75884107e-02   9.61122789e-01]\n",
      " [  7.70096653e-01   9.65260004e-01   2.98586954e-01   8.90458985e-01\n",
      "    8.99390107e-02   4.66182435e-01   3.16143673e-01   4.63648913e-01\n",
      "    8.43330551e-01   7.17328326e-01]\n",
      " [  2.48155998e-01   2.81742740e-01   3.87762221e-01   2.49184320e-01\n",
      "    4.62332111e-01   8.22215817e-01   6.48563146e-01   5.90416552e-02\n",
      "    1.75942304e-01   9.99340895e-01]]\n"
     ]
    }
   ],
   "source": [
    "group_rdd = data \\\n",
    "    .sortBy(lambda x: np.random.random()) \\\n",
    "    .zipWithIndex() \\\n",
    "    .map(lambda x: (x[1]%n_batch, x[0])) \\\n",
    "    .groupByKey() \\\n",
    "    .map(lambda d: (d[0], reduce(concate_data, d[1]))) \\\n",
    "    .persist()\n",
    "\n",
    "keys = group_rdd.keys().collect()\n",
    "group_rdd.take(2)\n",
    "\n",
    "i = 0\n",
    "for k in keys:\n",
    "    batch = group_rdd \\\n",
    "        .filter(lambda d: d[0] == k) \\\n",
    "        .map(lambda d: d[1]) \\\n",
    "        .collect()[0]\n",
    "    print('k: {}'.format(k))\n",
    "    print(batch['features'].shape)\n",
    "    print(batch['features'][:5])\n",
    "    i += 1\n",
    "    if i > 3:\n",
    "        break\n",
    "    "
   ]
  },
  {
   "cell_type": "markdown",
   "metadata": {
    "collapsed": true
   },
   "source": [
    "# MapPartition"
   ]
  },
  {
   "cell_type": "code",
   "execution_count": 11,
   "metadata": {
    "collapsed": false
   },
   "outputs": [
    {
     "data": {
      "text/plain": [
       "(10000, 78)"
      ]
     },
     "execution_count": 11,
     "metadata": {},
     "output_type": "execute_result"
    }
   ],
   "source": [
    "data_cnt, n_batch"
   ]
  },
  {
   "cell_type": "code",
   "execution_count": 12,
   "metadata": {
    "collapsed": false
   },
   "outputs": [],
   "source": [
    "batch_rdd = data \\\n",
    "    .coalesce(n_batch, shuffle=True) \\\n",
    "    .zipWithIndex() \\\n",
    "    .map(lambda x: (x[1]%n_batch , x[0])) \\\n",
    "    .groupByKey() \\\n",
    "    .map(lambda x: x[1])"
   ]
  },
  {
   "cell_type": "code",
   "execution_count": 13,
   "metadata": {
    "collapsed": false
   },
   "outputs": [
    {
     "data": {
      "text/plain": [
       "78"
      ]
     },
     "execution_count": 13,
     "metadata": {},
     "output_type": "execute_result"
    }
   ],
   "source": [
    "batch_rdd.getNumPartitions()"
   ]
  },
  {
   "cell_type": "code",
   "execution_count": 14,
   "metadata": {
    "collapsed": false
   },
   "outputs": [
    {
     "data": {
      "text/plain": [
       "[<pyspark.resultiterable.ResultIterable at 0x10767d750>]"
      ]
     },
     "execution_count": 14,
     "metadata": {},
     "output_type": "execute_result"
    }
   ],
   "source": [
    "batch_rdd.take(1)"
   ]
  },
  {
   "cell_type": "code",
   "execution_count": 15,
   "metadata": {
    "collapsed": false
   },
   "outputs": [
    {
     "name": "stdout",
     "output_type": "stream",
     "text": [
      "129\n"
     ]
    }
   ],
   "source": [
    "def concat_data(it):\n",
    "    dataset = None\n",
    "    for d in it:\n",
    "        if dataset is None:\n",
    "            dataset = d\n",
    "        else:\n",
    "            for f in ['features', 'label']:\n",
    "                dataset[f] = np.concatenate((dataset[f], d[f]), axis=0)\n",
    "    yield dataset\n",
    "\n",
    "for batch in batch_rdd.mapPartitions(concat_data).filter(lambda x: x is not None).collect():\n",
    "    batch = list(batch) # process it!\n",
    "    print(len(batch))\n",
    "    break"
   ]
  },
  {
   "cell_type": "code",
   "execution_count": null,
   "metadata": {
    "collapsed": true
   },
   "outputs": [],
   "source": []
  }
 ],
 "metadata": {
  "anaconda-cloud": {},
  "kernelspec": {
   "display_name": "Python [conda root]",
   "language": "python",
   "name": "conda-root-py"
  },
  "language_info": {
   "codemirror_mode": {
    "name": "ipython",
    "version": 2
   },
   "file_extension": ".py",
   "mimetype": "text/x-python",
   "name": "python",
   "nbconvert_exporter": "python",
   "pygments_lexer": "ipython2",
   "version": "2.7.12"
  }
 },
 "nbformat": 4,
 "nbformat_minor": 1
}
